{
 "cells": [
  {
   "cell_type": "code",
   "execution_count": 1,
   "id": "1ac9805c-4eba-4b18-842d-4e4d710342d4",
   "metadata": {},
   "outputs": [],
   "source": [
    "\n",
    "# Define the base path where the files are located.\n",
    "base_path = r'C:\\Users\\Buboy'\n"
   ]
  },
  {
   "cell_type": "code",
   "execution_count": 2,
   "id": "909bdb9e-0ad2-4771-aec5-75657eeb98a1",
   "metadata": {},
   "outputs": [
    {
     "name": "stderr",
     "output_type": "stream",
     "text": [
      "Matplotlib is building the font cache; this may take a moment.\n"
     ]
    }
   ],
   "source": [
    "\n",
    "# Import necessary libraries\n",
    "import pandas as pd\n",
    "import numpy as np\n",
    "import matplotlib.pyplot as plt\n",
    "from sklearn.preprocessing import LabelEncoder, MinMaxScaler\n"
   ]
  },
  {
   "cell_type": "code",
   "execution_count": 3,
   "id": "1584b291-0f26-4448-9ea9-48a7a6e8c76b",
   "metadata": {},
   "outputs": [],
   "source": [
    "\n",
    "# Load datasets\n",
    "customer_df = pd.read_csv(f\"{base_path}\\\\customer_demographics_contaminated.csv\")\n",
    "transactions_df = pd.read_csv(f\"{base_path}\\\\customer_transactions_contaminated.csv\")\n",
    "social_df = pd.read_csv(f\"{base_path}\\\\social_media_interactions_contaminated.csv\")\n"
   ]
  },
  {
   "cell_type": "code",
   "execution_count": 4,
   "id": "b3e98c0e-f1cc-4020-9df2-8d5eecca7644",
   "metadata": {},
   "outputs": [
    {
     "name": "stdout",
     "output_type": "stream",
     "text": [
      "<class 'pandas.core.frame.DataFrame'>\n",
      "RangeIndex: 3200 entries, 0 to 3199\n",
      "Data columns (total 6 columns):\n",
      " #   Column       Non-Null Count  Dtype \n",
      "---  ------       --------------  ----- \n",
      " 0   CustomerID   3200 non-null   object\n",
      " 1   Age          2909 non-null   object\n",
      " 2   Gender       3200 non-null   object\n",
      " 3   Location     3200 non-null   object\n",
      " 4   IncomeLevel  2897 non-null   object\n",
      " 5   SignupDate   3200 non-null   object\n",
      "dtypes: object(6)\n",
      "memory usage: 150.1+ KB\n",
      "None\n",
      "<class 'pandas.core.frame.DataFrame'>\n",
      "RangeIndex: 3200 entries, 0 to 3199\n",
      "Data columns (total 6 columns):\n",
      " #   Column           Non-Null Count  Dtype \n",
      "---  ------           --------------  ----- \n",
      " 0   CustomerID       3200 non-null   object\n",
      " 1   TransactionID    3200 non-null   object\n",
      " 2   TransactionDate  3200 non-null   object\n",
      " 3   Amount           2896 non-null   object\n",
      " 4   ProductCategory  2901 non-null   object\n",
      " 5   PaymentMethod    3200 non-null   object\n",
      "dtypes: object(6)\n",
      "memory usage: 150.1+ KB\n",
      "None\n",
      "<class 'pandas.core.frame.DataFrame'>\n",
      "RangeIndex: 3200 entries, 0 to 3199\n",
      "Data columns (total 6 columns):\n",
      " #   Column           Non-Null Count  Dtype \n",
      "---  ------           --------------  ----- \n",
      " 0   CustomerID       3200 non-null   object\n",
      " 1   InteractionID    3200 non-null   object\n",
      " 2   InteractionDate  3200 non-null   object\n",
      " 3   Platform         2889 non-null   object\n",
      " 4   InteractionType  3200 non-null   object\n",
      " 5   Sentiment        2871 non-null   object\n",
      "dtypes: object(6)\n",
      "memory usage: 150.1+ KB\n",
      "None\n"
     ]
    }
   ],
   "source": [
    "\n",
    "# Inspect structure\n",
    "print(customer_df.info())\n",
    "print(transactions_df.info())\n",
    "print(social_df.info())\n"
   ]
  },
  {
   "cell_type": "code",
   "execution_count": 5,
   "id": "f2da0cff-ee3e-4abc-a00d-da2f5bdd70e1",
   "metadata": {},
   "outputs": [],
   "source": [
    "\n",
    "# Remove duplicates\n",
    "customer_df.drop_duplicates(inplace=True)\n",
    "transactions_df.drop_duplicates(inplace=True)\n",
    "social_df.drop_duplicates(inplace=True)\n"
   ]
  },
  {
   "cell_type": "code",
   "execution_count": 6,
   "id": "4ec34196-3373-4d17-b700-0a7bab2bd794",
   "metadata": {},
   "outputs": [
    {
     "name": "stdout",
     "output_type": "stream",
     "text": [
      "CustomerID       0\n",
      "Age            276\n",
      "Gender           0\n",
      "Location         0\n",
      "IncomeLevel    285\n",
      "SignupDate       0\n",
      "dtype: int64\n",
      "CustomerID           0\n",
      "TransactionID        0\n",
      "TransactionDate      0\n",
      "Amount             283\n",
      "ProductCategory    282\n",
      "PaymentMethod        0\n",
      "dtype: int64\n",
      "CustomerID           0\n",
      "InteractionID        0\n",
      "InteractionDate      0\n",
      "Platform           291\n",
      "InteractionType      0\n",
      "Sentiment          309\n",
      "dtype: int64\n"
     ]
    }
   ],
   "source": [
    "\n",
    "# Check missing values\n",
    "print(customer_df.isnull().sum())\n",
    "print(transactions_df.isnull().sum())\n",
    "print(social_df.isnull().sum())\n"
   ]
  },
  {
   "cell_type": "code",
   "execution_count": 7,
   "id": "5c58eee5-5870-437f-890f-31fe78e8e353",
   "metadata": {},
   "outputs": [
    {
     "name": "stderr",
     "output_type": "stream",
     "text": [
      "C:\\Users\\Buboy\\AppData\\Local\\Temp\\ipykernel_18732\\4201533876.py:3: FutureWarning: A value is trying to be set on a copy of a DataFrame or Series through chained assignment using an inplace method.\n",
      "The behavior will change in pandas 3.0. This inplace method will never work because the intermediate object on which we are setting values always behaves as a copy.\n",
      "\n",
      "For example, when doing 'df[col].method(value, inplace=True)', try using 'df.method({col: value}, inplace=True)' or df[col] = df[col].method(value) instead, to perform the operation inplace on the original object.\n",
      "\n",
      "\n",
      "  customer_df['Age'].fillna(customer_df['Age'].median(), inplace=True)\n",
      "C:\\Users\\Buboy\\AppData\\Local\\Temp\\ipykernel_18732\\4201533876.py:4: FutureWarning: A value is trying to be set on a copy of a DataFrame or Series through chained assignment using an inplace method.\n",
      "The behavior will change in pandas 3.0. This inplace method will never work because the intermediate object on which we are setting values always behaves as a copy.\n",
      "\n",
      "For example, when doing 'df[col].method(value, inplace=True)', try using 'df.method({col: value}, inplace=True)' or df[col] = df[col].method(value) instead, to perform the operation inplace on the original object.\n",
      "\n",
      "\n",
      "  customer_df['IncomeLevel'].fillna(customer_df['IncomeLevel'].mode()[0], inplace=True)\n",
      "C:\\Users\\Buboy\\AppData\\Local\\Temp\\ipykernel_18732\\4201533876.py:8: FutureWarning: A value is trying to be set on a copy of a DataFrame or Series through chained assignment using an inplace method.\n",
      "The behavior will change in pandas 3.0. This inplace method will never work because the intermediate object on which we are setting values always behaves as a copy.\n",
      "\n",
      "For example, when doing 'df[col].method(value, inplace=True)', try using 'df.method({col: value}, inplace=True)' or df[col] = df[col].method(value) instead, to perform the operation inplace on the original object.\n",
      "\n",
      "\n",
      "  transactions_df['Amount'].fillna(transactions_df['Amount'].median(), inplace=True)\n",
      "C:\\Users\\Buboy\\AppData\\Local\\Temp\\ipykernel_18732\\4201533876.py:9: FutureWarning: A value is trying to be set on a copy of a DataFrame or Series through chained assignment using an inplace method.\n",
      "The behavior will change in pandas 3.0. This inplace method will never work because the intermediate object on which we are setting values always behaves as a copy.\n",
      "\n",
      "For example, when doing 'df[col].method(value, inplace=True)', try using 'df.method({col: value}, inplace=True)' or df[col] = df[col].method(value) instead, to perform the operation inplace on the original object.\n",
      "\n",
      "\n",
      "  transactions_df['ProductCategory'].fillna('Unknown', inplace=True)\n",
      "C:\\Users\\Buboy\\AppData\\Local\\Temp\\ipykernel_18732\\4201533876.py:10: FutureWarning: A value is trying to be set on a copy of a DataFrame or Series through chained assignment using an inplace method.\n",
      "The behavior will change in pandas 3.0. This inplace method will never work because the intermediate object on which we are setting values always behaves as a copy.\n",
      "\n",
      "For example, when doing 'df[col].method(value, inplace=True)', try using 'df.method({col: value}, inplace=True)' or df[col] = df[col].method(value) instead, to perform the operation inplace on the original object.\n",
      "\n",
      "\n",
      "  transactions_df['PaymentMethod'].fillna('Unknown', inplace=True)\n",
      "C:\\Users\\Buboy\\AppData\\Local\\Temp\\ipykernel_18732\\4201533876.py:13: FutureWarning: A value is trying to be set on a copy of a DataFrame or Series through chained assignment using an inplace method.\n",
      "The behavior will change in pandas 3.0. This inplace method will never work because the intermediate object on which we are setting values always behaves as a copy.\n",
      "\n",
      "For example, when doing 'df[col].method(value, inplace=True)', try using 'df.method({col: value}, inplace=True)' or df[col] = df[col].method(value) instead, to perform the operation inplace on the original object.\n",
      "\n",
      "\n",
      "  social_df['Platform'].fillna('Unknown', inplace=True)\n",
      "C:\\Users\\Buboy\\AppData\\Local\\Temp\\ipykernel_18732\\4201533876.py:14: FutureWarning: A value is trying to be set on a copy of a DataFrame or Series through chained assignment using an inplace method.\n",
      "The behavior will change in pandas 3.0. This inplace method will never work because the intermediate object on which we are setting values always behaves as a copy.\n",
      "\n",
      "For example, when doing 'df[col].method(value, inplace=True)', try using 'df.method({col: value}, inplace=True)' or df[col] = df[col].method(value) instead, to perform the operation inplace on the original object.\n",
      "\n",
      "\n",
      "  social_df['Sentiment'].fillna('Neutral', inplace=True)\n"
     ]
    }
   ],
   "source": [
    "\n",
    "# Handle missing values (MCAR + MNAR)\n",
    "customer_df['Age'] = pd.to_numeric(customer_df['Age'], errors='coerce')\n",
    "customer_df['Age'].fillna(customer_df['Age'].median(), inplace=True)\n",
    "customer_df['IncomeLevel'].fillna(customer_df['IncomeLevel'].mode()[0], inplace=True)\n",
    "customer_df['SignupDate'] = pd.to_datetime(customer_df['SignupDate'], errors='coerce')\n",
    "\n",
    "transactions_df['Amount'] = pd.to_numeric(transactions_df['Amount'], errors='coerce')\n",
    "transactions_df['Amount'].fillna(transactions_df['Amount'].median(), inplace=True)\n",
    "transactions_df['ProductCategory'].fillna('Unknown', inplace=True)\n",
    "transactions_df['PaymentMethod'].fillna('Unknown', inplace=True)\n",
    "transactions_df['TransactionDate'] = pd.to_datetime(transactions_df['TransactionDate'], errors='coerce')\n",
    "\n",
    "social_df['Platform'].fillna('Unknown', inplace=True)\n",
    "social_df['Sentiment'].fillna('Neutral', inplace=True)\n",
    "social_df['InteractionDate'] = pd.to_datetime(social_df['InteractionDate'], errors='coerce')\n"
   ]
  },
  {
   "cell_type": "code",
   "execution_count": 8,
   "id": "ebde300b-7962-4e36-82ba-015bd618734f",
   "metadata": {},
   "outputs": [],
   "source": [
    "\n",
    "# Encode categorical variables\n",
    "le = LabelEncoder()\n",
    "customer_df['Gender'] = le.fit_transform(customer_df['Gender'])\n",
    "customer_df['IncomeLevel'] = le.fit_transform(customer_df['IncomeLevel'])\n",
    "\n",
    "transactions_df['ProductCategory'] = le.fit_transform(transactions_df['ProductCategory'])\n",
    "transactions_df['PaymentMethod'] = le.fit_transform(transactions_df['PaymentMethod'])\n",
    "\n",
    "social_df['Platform'] = le.fit_transform(social_df['Platform'])\n",
    "social_df['Sentiment'] = le.fit_transform(social_df['Sentiment'])\n"
   ]
  },
  {
   "cell_type": "code",
   "execution_count": 9,
   "id": "e5590ac7-8770-4a4c-aaa4-a33cd86591ab",
   "metadata": {},
   "outputs": [],
   "source": [
    "\n",
    "# Normalize numerical columns\n",
    "scaler = MinMaxScaler()\n",
    "customer_df['Age'] = scaler.fit_transform(customer_df[['Age']])\n",
    "transactions_df['Amount'] = scaler.fit_transform(transactions_df[['Amount']])\n"
   ]
  },
  {
   "cell_type": "code",
   "execution_count": 10,
   "id": "7d94735b-5c50-4cf8-946e-373298fa5443",
   "metadata": {},
   "outputs": [],
   "source": [
    "\n",
    "# Save cleaned datasets\n",
    "customer_df.to_csv(f\"{base_path}\\\\customer_demographics_cleaned.csv\", index=False)\n",
    "transactions_df.to_csv(f\"{base_path}\\\\customer_transactions_cleaned.csv\", index=False)\n",
    "social_df.to_csv(f\"{base_path}\\\\social_media_interactions_cleaned.csv\", index=False)\n"
   ]
  },
  {
   "cell_type": "code",
   "execution_count": null,
   "id": "14168554-b441-4098-a3cf-a8a26e92acb7",
   "metadata": {},
   "outputs": [],
   "source": []
  }
 ],
 "metadata": {
  "kernelspec": {
   "display_name": "Python [conda env:base] *",
   "language": "python",
   "name": "conda-base-py"
  },
  "language_info": {
   "codemirror_mode": {
    "name": "ipython",
    "version": 3
   },
   "file_extension": ".py",
   "mimetype": "text/x-python",
   "name": "python",
   "nbconvert_exporter": "python",
   "pygments_lexer": "ipython3",
   "version": "3.13.5"
  }
 },
 "nbformat": 4,
 "nbformat_minor": 5
}
